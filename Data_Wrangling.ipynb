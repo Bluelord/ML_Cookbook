{
  "nbformat": 4,
  "nbformat_minor": 0,
  "metadata": {
    "colab": {
      "name": "Data Wrangling.ipynb",
      "provenance": [],
      "authorship_tag": "ABX9TyOsw6cpPMcU85UvUe35EL1N",
      "include_colab_link": true
    },
    "kernelspec": {
      "name": "python3",
      "display_name": "Python 3"
    },
    "language_info": {
      "name": "python"
    }
  },
  "cells": [
    {
      "cell_type": "markdown",
      "metadata": {
        "id": "view-in-github",
        "colab_type": "text"
      },
      "source": [
        "<a href=\"https://colab.research.google.com/github/Bluelord/ML_Cookbook/blob/main/Data_Wrangling.ipynb\" target=\"_parent\"><img src=\"https://colab.research.google.com/assets/colab-badge.svg\" alt=\"Open In Colab\"/></a>"
      ]
    },
    {
      "cell_type": "markdown",
      "metadata": {
        "id": "qEglrx_xAt-1"
      },
      "source": [
        "## **Data Wrangling**"
      ]
    },
    {
      "cell_type": "code",
      "metadata": {
        "colab": {
          "base_uri": "https://localhost:8080/"
        },
        "id": "OunXw4I3s6VM",
        "outputId": "e45cb732-0d2c-43d0-8f59-0bfd67722724"
      },
      "source": [
        "from google.colab import drive\n",
        "drive.mount('/content/drive')"
      ],
      "execution_count": 19,
      "outputs": [
        {
          "output_type": "stream",
          "text": [
            "Drive already mounted at /content/drive; to attempt to forcibly remount, call drive.mount(\"/content/drive\", force_remount=True).\n"
          ],
          "name": "stdout"
        }
      ]
    },
    {
      "cell_type": "code",
      "metadata": {
        "colab": {
          "base_uri": "https://localhost:8080/",
          "height": 107
        },
        "id": "a0JFejV0t-ql",
        "outputId": "0142d5c1-8d2a-4e6f-d4cd-d67d58cac34d"
      },
      "source": [
        "import pandas as pd\n",
        "\n",
        "# Create DataFrame\n",
        "dataframe = pd.DataFrame()\n",
        "\n",
        "# Add columns\n",
        "dataframe['Name'] = ['Jacky Jackson', 'Steven Stevenson']\n",
        "dataframe['Age'] = [38, 25]\n",
        "dataframe['Driver'] = [True, False]\n",
        "\n",
        "# Show DataFrame\n",
        "dataframe"
      ],
      "execution_count": 20,
      "outputs": [
        {
          "output_type": "execute_result",
          "data": {
            "text/html": [
              "<div>\n",
              "<style scoped>\n",
              "    .dataframe tbody tr th:only-of-type {\n",
              "        vertical-align: middle;\n",
              "    }\n",
              "\n",
              "    .dataframe tbody tr th {\n",
              "        vertical-align: top;\n",
              "    }\n",
              "\n",
              "    .dataframe thead th {\n",
              "        text-align: right;\n",
              "    }\n",
              "</style>\n",
              "<table border=\"1\" class=\"dataframe\">\n",
              "  <thead>\n",
              "    <tr style=\"text-align: right;\">\n",
              "      <th></th>\n",
              "      <th>Name</th>\n",
              "      <th>Age</th>\n",
              "      <th>Driver</th>\n",
              "    </tr>\n",
              "  </thead>\n",
              "  <tbody>\n",
              "    <tr>\n",
              "      <th>0</th>\n",
              "      <td>Jacky Jackson</td>\n",
              "      <td>38</td>\n",
              "      <td>True</td>\n",
              "    </tr>\n",
              "    <tr>\n",
              "      <th>1</th>\n",
              "      <td>Steven Stevenson</td>\n",
              "      <td>25</td>\n",
              "      <td>False</td>\n",
              "    </tr>\n",
              "  </tbody>\n",
              "</table>\n",
              "</div>"
            ],
            "text/plain": [
              "               Name  Age  Driver\n",
              "0     Jacky Jackson   38    True\n",
              "1  Steven Stevenson   25   False"
            ]
          },
          "metadata": {
            "tags": []
          },
          "execution_count": 20
        }
      ]
    },
    {
      "cell_type": "code",
      "metadata": {
        "colab": {
          "base_uri": "https://localhost:8080/",
          "height": 137
        },
        "id": "LHUSAjjGuKYM",
        "outputId": "b8666f8d-f8b8-4031-eb8b-e1bcd73d2ec4"
      },
      "source": [
        "# Create row\n",
        "new_person = pd.Series(['Molly Mooney', 40, True], index=['Name','Age','Driver'])\n",
        "# Appending row\n",
        "dataframe.append(new_person, ignore_index=True)"
      ],
      "execution_count": 21,
      "outputs": [
        {
          "output_type": "execute_result",
          "data": {
            "text/html": [
              "<div>\n",
              "<style scoped>\n",
              "    .dataframe tbody tr th:only-of-type {\n",
              "        vertical-align: middle;\n",
              "    }\n",
              "\n",
              "    .dataframe tbody tr th {\n",
              "        vertical-align: top;\n",
              "    }\n",
              "\n",
              "    .dataframe thead th {\n",
              "        text-align: right;\n",
              "    }\n",
              "</style>\n",
              "<table border=\"1\" class=\"dataframe\">\n",
              "  <thead>\n",
              "    <tr style=\"text-align: right;\">\n",
              "      <th></th>\n",
              "      <th>Name</th>\n",
              "      <th>Age</th>\n",
              "      <th>Driver</th>\n",
              "    </tr>\n",
              "  </thead>\n",
              "  <tbody>\n",
              "    <tr>\n",
              "      <th>0</th>\n",
              "      <td>Jacky Jackson</td>\n",
              "      <td>38</td>\n",
              "      <td>True</td>\n",
              "    </tr>\n",
              "    <tr>\n",
              "      <th>1</th>\n",
              "      <td>Steven Stevenson</td>\n",
              "      <td>25</td>\n",
              "      <td>False</td>\n",
              "    </tr>\n",
              "    <tr>\n",
              "      <th>2</th>\n",
              "      <td>Molly Mooney</td>\n",
              "      <td>40</td>\n",
              "      <td>True</td>\n",
              "    </tr>\n",
              "  </tbody>\n",
              "</table>\n",
              "</div>"
            ],
            "text/plain": [
              "               Name  Age  Driver\n",
              "0     Jacky Jackson   38    True\n",
              "1  Steven Stevenson   25   False\n",
              "2      Molly Mooney   40    True"
            ]
          },
          "metadata": {
            "tags": []
          },
          "execution_count": 21
        }
      ]
    },
    {
      "cell_type": "code",
      "metadata": {
        "id": "9e3--uzdAw9b",
        "colab": {
          "base_uri": "https://localhost:8080/"
        },
        "outputId": "675cf3bc-c0b2-42de-9b14-9767762476fb"
      },
      "source": [
        "# Loading our data \n",
        "dataframe = pd.read_csv(\"/content/drive/MyDrive/Colab Notebooks/ML Cookbook/Datasets/titanic.csv\")\n",
        "\n",
        "print(\"Head of a data: \\n{}\\n\" .format(dataframe.head()))\n",
        "print(\"shape of our data: \\n{}\\n\" .format(dataframe.shape))\n",
        "print(\"Statistic describetion of any neumaric columns: \\n{}\".format(dataframe.describe())) "
      ],
      "execution_count": 22,
      "outputs": [
        {
          "output_type": "stream",
          "text": [
            "Head of a data: \n",
            "   PassengerId  Survived  Pclass  ...     Fare Cabin  Embarked\n",
            "0            1         0       3  ...   7.2500   NaN         S\n",
            "1            2         1       1  ...  71.2833   C85         C\n",
            "2            3         1       3  ...   7.9250   NaN         S\n",
            "3            4         1       1  ...  53.1000  C123         S\n",
            "4            5         0       3  ...   8.0500   NaN         S\n",
            "\n",
            "[5 rows x 12 columns]\n",
            "\n",
            "shape of our data: \n",
            "(891, 12)\n",
            "\n",
            "Statistic describetion of any neumaric columns: \n",
            "       PassengerId    Survived      Pclass  ...       SibSp       Parch        Fare\n",
            "count   891.000000  891.000000  891.000000  ...  891.000000  891.000000  891.000000\n",
            "mean    446.000000    0.383838    2.308642  ...    0.523008    0.381594   32.204208\n",
            "std     257.353842    0.486592    0.836071  ...    1.102743    0.806057   49.693429\n",
            "min       1.000000    0.000000    1.000000  ...    0.000000    0.000000    0.000000\n",
            "25%     223.500000    0.000000    2.000000  ...    0.000000    0.000000    7.910400\n",
            "50%     446.000000    0.000000    3.000000  ...    0.000000    0.000000   14.454200\n",
            "75%     668.500000    1.000000    3.000000  ...    1.000000    0.000000   31.000000\n",
            "max     891.000000    1.000000    3.000000  ...    8.000000    6.000000  512.329200\n",
            "\n",
            "[8 rows x 7 columns]\n"
          ],
          "name": "stdout"
        }
      ]
    },
    {
      "cell_type": "code",
      "metadata": {
        "id": "j60GQqAgA7ok",
        "colab": {
          "base_uri": "https://localhost:8080/"
        },
        "outputId": "a4b6c5e6-00cf-4a1c-dcd2-b1aefa5b6bcd"
      },
      "source": [
        "# Navigating the dataframe\n",
        "\n",
        "print(\"select the first row of a data: \\n{}\\n\" .format(dataframe.iloc[0]))\n",
        "print(\"select the rows within an interval: \\n{}\" .format(dataframe.iloc[1:4]))"
      ],
      "execution_count": 23,
      "outputs": [
        {
          "output_type": "stream",
          "text": [
            "select the first row of a data: \n",
            "PassengerId                          1\n",
            "Survived                             0\n",
            "Pclass                               3\n",
            "Name           Braund, Mr. Owen Harris\n",
            "Sex                               male\n",
            "Age                                 22\n",
            "SibSp                                1\n",
            "Parch                                0\n",
            "Ticket                       A/5 21171\n",
            "Fare                              7.25\n",
            "Cabin                              NaN\n",
            "Embarked                             S\n",
            "Name: 0, dtype: object\n",
            "\n",
            "select the rows within an interval: \n",
            "   PassengerId  Survived  Pclass  ...     Fare Cabin  Embarked\n",
            "1            2         1       1  ...  71.2833   C85         C\n",
            "2            3         1       3  ...   7.9250   NaN         S\n",
            "3            4         1       1  ...  53.1000  C123         S\n",
            "\n",
            "[3 rows x 12 columns]\n"
          ],
          "name": "stdout"
        }
      ]
    },
    {
      "cell_type": "code",
      "metadata": {
        "colab": {
          "base_uri": "https://localhost:8080/"
        },
        "id": "GEJdsLb4vmo9",
        "outputId": "b80800a1-382e-444b-c6d0-e8780a32a818"
      },
      "source": [
        "# Set index\n",
        "dataframe = dataframe.set_index(dataframe['PassengerId'])\n",
        "# Show row\n",
        "dataframe.loc[4]"
      ],
      "execution_count": 24,
      "outputs": [
        {
          "output_type": "execute_result",
          "data": {
            "text/plain": [
              "PassengerId                                               4\n",
              "Survived                                                  1\n",
              "Pclass                                                    1\n",
              "Name           Futrelle, Mrs. Jacques Heath (Lily May Peel)\n",
              "Sex                                                  female\n",
              "Age                                                      35\n",
              "SibSp                                                     1\n",
              "Parch                                                     0\n",
              "Ticket                                               113803\n",
              "Fare                                                   53.1\n",
              "Cabin                                                  C123\n",
              "Embarked                                                  S\n",
              "Name: 4, dtype: object"
            ]
          },
          "metadata": {
            "tags": []
          },
          "execution_count": 24
        }
      ]
    },
    {
      "cell_type": "markdown",
      "metadata": {
        "id": "-NwfbqJ5mWQA"
      },
      "source": [
        "DataFrame indexes can be unique string or costomer number. To select individual rows and slices of rows, pandas hs two methods:\n",
        "\n",
        "*   loc is useful when the index of the DataFrame is a lable (e.g string)\n",
        "*   iloc works by looking for the the position in th dataframe.\n",
        "\n"
      ]
    },
    {
      "cell_type": "code",
      "metadata": {
        "id": "IlR5lmpgEEUO",
        "colab": {
          "base_uri": "https://localhost:8080/"
        },
        "outputId": "631aafd8-bd05-4a28-de2f-013306542bc4"
      },
      "source": [
        "# Selecting based on conditionals\n",
        "\n",
        "print(\"First 4 rows where column 'Purchased' is 'Yes': \\n{}\" \n",
        "      .format(dataframe[dataframe['Sex']=='female'].head(4)))\n",
        "\n",
        "print(\"Filter rows where column 'Purchased' is 'Yes' & Age >=30: \\n{}\" \n",
        "      .format(dataframe[(dataframe['Sex']=='male') & (dataframe['Age']>=30)].head(7)))"
      ],
      "execution_count": 27,
      "outputs": [
        {
          "output_type": "stream",
          "text": [
            "First 4 rows where column 'Purchased' is 'Yes': \n",
            "             PassengerId  Survived  Pclass  ...     Fare Cabin  Embarked\n",
            "PassengerId                                 ...                         \n",
            "2                      2         1       1  ...  71.2833   C85         C\n",
            "3                      3         1       3  ...   7.9250   NaN         S\n",
            "4                      4         1       1  ...  53.1000  C123         S\n",
            "9                      9         1       3  ...  11.1333   NaN         S\n",
            "\n",
            "[4 rows x 12 columns]\n",
            "Filter rows where column 'Purchased' is 'Yes' & Age >=30: \n",
            "             PassengerId  Survived  Pclass  ...     Fare Cabin  Embarked\n",
            "PassengerId                                 ...                         \n",
            "5                      5         0       3  ...   8.0500   NaN         S\n",
            "7                      7         0       1  ...  51.8625   E46         S\n",
            "14                    14         0       3  ...  31.2750   NaN         S\n",
            "21                    21         0       2  ...  26.0000   NaN         S\n",
            "22                    22         1       2  ...  13.0000   D56         S\n",
            "31                    31         0       1  ...  27.7208   NaN         C\n",
            "34                    34         0       2  ...  10.5000   NaN         S\n",
            "\n",
            "[7 rows x 12 columns]\n"
          ],
          "name": "stdout"
        }
      ]
    },
    {
      "cell_type": "code",
      "metadata": {
        "id": "bENgjO8opxcP",
        "colab": {
          "base_uri": "https://localhost:8080/"
        },
        "outputId": "93a24b81-2783-445e-8e46-eca63cdd4ec5"
      },
      "source": [
        "# replacing Vlaues\n",
        "\n",
        "print(\"Replace values: \\n{}\" \n",
        "      .format(dataframe['Sex'].replace(\"female\",0).head(5)))\n",
        "\n",
        "print(\"Replace multiple values: \\n{}\" \n",
        "      .format(dataframe['Sex'].replace([\"female\", \"male\"],[0,1])))"
      ],
      "execution_count": 33,
      "outputs": [
        {
          "output_type": "stream",
          "text": [
            "Replace values: \n",
            "PassengerId\n",
            "1    male\n",
            "2       0\n",
            "3       0\n",
            "4       0\n",
            "5    male\n",
            "Name: Sex, dtype: object\n",
            "Replace multiple values: \n",
            "PassengerId\n",
            "1      1\n",
            "2      0\n",
            "3      0\n",
            "4      0\n",
            "5      1\n",
            "      ..\n",
            "887    1\n",
            "888    0\n",
            "889    0\n",
            "890    1\n",
            "891    1\n",
            "Name: Sex, Length: 891, dtype: int64\n"
          ],
          "name": "stdout"
        }
      ]
    },
    {
      "cell_type": "code",
      "metadata": {
        "id": "CYLSZ53_1cN2",
        "colab": {
          "base_uri": "https://localhost:8080/"
        },
        "outputId": "850c5876-6570-4ffb-cac3-0d0fd5f8f0a9"
      },
      "source": [
        "# Renaming Columns\n",
        "\n",
        "print(\"Rename column: \\n{}\\n\" \n",
        "      .format(dataframe.rename(columns={'Pclass': 'Passenger_class'}).head(5)))\n",
        "\n",
        "\n",
        "print(\"Rename columns: \\n{}\\n\" \n",
        "      .format(dataframe.rename(columns={'Pclass': 'Passenger_class', 'Sex': 'Gender'}).head(5)))\n",
        "\n",
        "# If we want a to rename all the column at once at the initial \n",
        "names = ('Nation', 'Years', 'Sal','Bought-or-not')\n",
        "data = pd.read_csv('/content/drive/MyDrive/Colab Notebooks/ML Cookbook/Datasets/Data.csv', names=names)\n",
        "print(data)"
      ],
      "execution_count": 34,
      "outputs": [
        {
          "output_type": "stream",
          "text": [
            "Rename column: \n",
            "             PassengerId  Survived  Passenger_class  ...     Fare Cabin  Embarked\n",
            "PassengerId                                          ...                         \n",
            "1                      1         0                3  ...   7.2500   NaN         S\n",
            "2                      2         1                1  ...  71.2833   C85         C\n",
            "3                      3         1                3  ...   7.9250   NaN         S\n",
            "4                      4         1                1  ...  53.1000  C123         S\n",
            "5                      5         0                3  ...   8.0500   NaN         S\n",
            "\n",
            "[5 rows x 12 columns]\n",
            "\n",
            "Rename columns: \n",
            "             PassengerId  Survived  Passenger_class  ...     Fare Cabin  Embarked\n",
            "PassengerId                                          ...                         \n",
            "1                      1         0                3  ...   7.2500   NaN         S\n",
            "2                      2         1                1  ...  71.2833   C85         C\n",
            "3                      3         1                3  ...   7.9250   NaN         S\n",
            "4                      4         1                1  ...  53.1000  C123         S\n",
            "5                      5         0                3  ...   8.0500   NaN         S\n",
            "\n",
            "[5 rows x 12 columns]\n",
            "\n",
            "     Nation Years     Sal Bought-or-not\n",
            "0   Country   Age  Salary     Purchased\n",
            "1    France    44   72000            No\n",
            "2     Spain    27   48000           Yes\n",
            "3   Germany    30   54000            No\n",
            "4     Spain    38   61000            No\n",
            "5   Germany    40     NaN           Yes\n",
            "6    France    35   58000           Yes\n",
            "7     Spain   NaN   52000            No\n",
            "8    France    48   79000           Yes\n",
            "9   Germany    50   83000            No\n",
            "10   France    37   67000           Yes\n"
          ],
          "name": "stdout"
        }
      ]
    },
    {
      "cell_type": "code",
      "metadata": {
        "colab": {
          "base_uri": "https://localhost:8080/"
        },
        "id": "HJvC6tOz12b-",
        "outputId": "b8786240-0f5b-4cc4-ce01-0f35a22fe960"
      },
      "source": [
        "# Calculate statistics\n",
        "\n",
        "print('Maximum:', dataframe['Age'].max())\n",
        "print('Minimum:', dataframe['Age'].min())\n",
        "print('Mean:', dataframe['Age'].mean())\n",
        "print('Sum:', dataframe['Age'].sum())\n",
        "print('Count:', dataframe['Age'].count())"
      ],
      "execution_count": 35,
      "outputs": [
        {
          "output_type": "stream",
          "text": [
            "Maximum: 80.0\n",
            "Minimum: 0.42\n",
            "Mean: 29.69911764705882\n",
            "Sum: 21205.17\n",
            "Count: 714\n"
          ],
          "name": "stdout"
        }
      ]
    },
    {
      "cell_type": "markdown",
      "metadata": {
        "id": "0KnkcUer2Hlu"
      },
      "source": [
        "In addition to the statistics used in the solution, pandas offers variance (var), standarddeviation (std), kurtosis (kurt), skewness (skew), standard error of the mean (sem), mode (mode), median (median), and a number of others."
      ]
    },
    {
      "cell_type": "code",
      "metadata": {
        "colab": {
          "base_uri": "https://localhost:8080/"
        },
        "id": "4liVG3Cc3PKO",
        "outputId": "0a86f2d7-8a05-430d-eebc-11ed56672296"
      },
      "source": [
        "# Select unique values\n",
        "print(\"slecting unique values in a feature: {}\\n\" \n",
        "      .format(dataframe['Sex'].unique()))\n",
        "\n",
        "# Show counts\n",
        "print(\"counting each types of values in a feature: \\n{}\\n\" \n",
        "      .format(dataframe['Sex'].value_counts()))\n",
        "\n",
        "# Show number of unique values\n",
        "print(\"Number of Unique values: \\n{}\" \n",
        "      .format(dataframe['Pclass'].nunique()))"
      ],
      "execution_count": 50,
      "outputs": [
        {
          "output_type": "stream",
          "text": [
            "slecting unique values in a feature: ['male' 'female']\n",
            "\n",
            "counting each types of values in a feature: \n",
            "male      577\n",
            "female    314\n",
            "Name: Sex, dtype: int64\n",
            "\n",
            "Number of Unique values: \n",
            "3\n"
          ],
          "name": "stdout"
        }
      ]
    },
    {
      "cell_type": "markdown",
      "metadata": {
        "id": "9CNOhuwV4_Pd"
      },
      "source": [
        "Both unique and value_counts are useful for manipulating and exploring categorical columns. Very often in categorical columns there will be classes that need to be handled in the data wrangling phase."
      ]
    },
    {
      "cell_type": "code",
      "metadata": {
        "colab": {
          "base_uri": "https://localhost:8080/",
          "height": 436
        },
        "id": "_jiMswOz6KVu",
        "outputId": "b72234f7-bf74-4877-8885-230ded81920f"
      },
      "source": [
        "# Handling Missing Values \n",
        "\n",
        "## Select missing values, show two rows\n",
        "dataframe[dataframe['Age'].isnull()]"
      ],
      "execution_count": 59,
      "outputs": [
        {
          "output_type": "execute_result",
          "data": {
            "text/html": [
              "<div>\n",
              "<style scoped>\n",
              "    .dataframe tbody tr th:only-of-type {\n",
              "        vertical-align: middle;\n",
              "    }\n",
              "\n",
              "    .dataframe tbody tr th {\n",
              "        vertical-align: top;\n",
              "    }\n",
              "\n",
              "    .dataframe thead th {\n",
              "        text-align: right;\n",
              "    }\n",
              "</style>\n",
              "<table border=\"1\" class=\"dataframe\">\n",
              "  <thead>\n",
              "    <tr style=\"text-align: right;\">\n",
              "      <th></th>\n",
              "      <th>PassengerId</th>\n",
              "      <th>Survived</th>\n",
              "      <th>Pclass</th>\n",
              "      <th>Name</th>\n",
              "      <th>Sex</th>\n",
              "      <th>Age</th>\n",
              "      <th>SibSp</th>\n",
              "      <th>Parch</th>\n",
              "      <th>Ticket</th>\n",
              "      <th>Fare</th>\n",
              "      <th>Cabin</th>\n",
              "      <th>Embarked</th>\n",
              "    </tr>\n",
              "    <tr>\n",
              "      <th>PassengerId</th>\n",
              "      <th></th>\n",
              "      <th></th>\n",
              "      <th></th>\n",
              "      <th></th>\n",
              "      <th></th>\n",
              "      <th></th>\n",
              "      <th></th>\n",
              "      <th></th>\n",
              "      <th></th>\n",
              "      <th></th>\n",
              "      <th></th>\n",
              "      <th></th>\n",
              "    </tr>\n",
              "  </thead>\n",
              "  <tbody>\n",
              "    <tr>\n",
              "      <th>6</th>\n",
              "      <td>6</td>\n",
              "      <td>0</td>\n",
              "      <td>3</td>\n",
              "      <td>Moran, Mr. James</td>\n",
              "      <td>male</td>\n",
              "      <td>NaN</td>\n",
              "      <td>0</td>\n",
              "      <td>0</td>\n",
              "      <td>330877</td>\n",
              "      <td>8.4583</td>\n",
              "      <td>NaN</td>\n",
              "      <td>Q</td>\n",
              "    </tr>\n",
              "    <tr>\n",
              "      <th>18</th>\n",
              "      <td>18</td>\n",
              "      <td>1</td>\n",
              "      <td>2</td>\n",
              "      <td>Williams, Mr. Charles Eugene</td>\n",
              "      <td>male</td>\n",
              "      <td>NaN</td>\n",
              "      <td>0</td>\n",
              "      <td>0</td>\n",
              "      <td>244373</td>\n",
              "      <td>13.0000</td>\n",
              "      <td>NaN</td>\n",
              "      <td>S</td>\n",
              "    </tr>\n",
              "    <tr>\n",
              "      <th>20</th>\n",
              "      <td>20</td>\n",
              "      <td>1</td>\n",
              "      <td>3</td>\n",
              "      <td>Masselmani, Mrs. Fatima</td>\n",
              "      <td>female</td>\n",
              "      <td>NaN</td>\n",
              "      <td>0</td>\n",
              "      <td>0</td>\n",
              "      <td>2649</td>\n",
              "      <td>7.2250</td>\n",
              "      <td>NaN</td>\n",
              "      <td>C</td>\n",
              "    </tr>\n",
              "    <tr>\n",
              "      <th>27</th>\n",
              "      <td>27</td>\n",
              "      <td>0</td>\n",
              "      <td>3</td>\n",
              "      <td>Emir, Mr. Farred Chehab</td>\n",
              "      <td>male</td>\n",
              "      <td>NaN</td>\n",
              "      <td>0</td>\n",
              "      <td>0</td>\n",
              "      <td>2631</td>\n",
              "      <td>7.2250</td>\n",
              "      <td>NaN</td>\n",
              "      <td>C</td>\n",
              "    </tr>\n",
              "    <tr>\n",
              "      <th>29</th>\n",
              "      <td>29</td>\n",
              "      <td>1</td>\n",
              "      <td>3</td>\n",
              "      <td>O'Dwyer, Miss. Ellen \"Nellie\"</td>\n",
              "      <td>female</td>\n",
              "      <td>NaN</td>\n",
              "      <td>0</td>\n",
              "      <td>0</td>\n",
              "      <td>330959</td>\n",
              "      <td>7.8792</td>\n",
              "      <td>NaN</td>\n",
              "      <td>Q</td>\n",
              "    </tr>\n",
              "    <tr>\n",
              "      <th>...</th>\n",
              "      <td>...</td>\n",
              "      <td>...</td>\n",
              "      <td>...</td>\n",
              "      <td>...</td>\n",
              "      <td>...</td>\n",
              "      <td>...</td>\n",
              "      <td>...</td>\n",
              "      <td>...</td>\n",
              "      <td>...</td>\n",
              "      <td>...</td>\n",
              "      <td>...</td>\n",
              "      <td>...</td>\n",
              "    </tr>\n",
              "    <tr>\n",
              "      <th>860</th>\n",
              "      <td>860</td>\n",
              "      <td>0</td>\n",
              "      <td>3</td>\n",
              "      <td>Razi, Mr. Raihed</td>\n",
              "      <td>male</td>\n",
              "      <td>NaN</td>\n",
              "      <td>0</td>\n",
              "      <td>0</td>\n",
              "      <td>2629</td>\n",
              "      <td>7.2292</td>\n",
              "      <td>NaN</td>\n",
              "      <td>C</td>\n",
              "    </tr>\n",
              "    <tr>\n",
              "      <th>864</th>\n",
              "      <td>864</td>\n",
              "      <td>0</td>\n",
              "      <td>3</td>\n",
              "      <td>Sage, Miss. Dorothy Edith \"Dolly\"</td>\n",
              "      <td>female</td>\n",
              "      <td>NaN</td>\n",
              "      <td>8</td>\n",
              "      <td>2</td>\n",
              "      <td>CA. 2343</td>\n",
              "      <td>69.5500</td>\n",
              "      <td>NaN</td>\n",
              "      <td>S</td>\n",
              "    </tr>\n",
              "    <tr>\n",
              "      <th>869</th>\n",
              "      <td>869</td>\n",
              "      <td>0</td>\n",
              "      <td>3</td>\n",
              "      <td>van Melkebeke, Mr. Philemon</td>\n",
              "      <td>male</td>\n",
              "      <td>NaN</td>\n",
              "      <td>0</td>\n",
              "      <td>0</td>\n",
              "      <td>345777</td>\n",
              "      <td>9.5000</td>\n",
              "      <td>NaN</td>\n",
              "      <td>S</td>\n",
              "    </tr>\n",
              "    <tr>\n",
              "      <th>879</th>\n",
              "      <td>879</td>\n",
              "      <td>0</td>\n",
              "      <td>3</td>\n",
              "      <td>Laleff, Mr. Kristo</td>\n",
              "      <td>male</td>\n",
              "      <td>NaN</td>\n",
              "      <td>0</td>\n",
              "      <td>0</td>\n",
              "      <td>349217</td>\n",
              "      <td>7.8958</td>\n",
              "      <td>NaN</td>\n",
              "      <td>S</td>\n",
              "    </tr>\n",
              "    <tr>\n",
              "      <th>889</th>\n",
              "      <td>889</td>\n",
              "      <td>0</td>\n",
              "      <td>3</td>\n",
              "      <td>Johnston, Miss. Catherine Helen \"Carrie\"</td>\n",
              "      <td>female</td>\n",
              "      <td>NaN</td>\n",
              "      <td>1</td>\n",
              "      <td>2</td>\n",
              "      <td>W./C. 6607</td>\n",
              "      <td>23.4500</td>\n",
              "      <td>NaN</td>\n",
              "      <td>S</td>\n",
              "    </tr>\n",
              "  </tbody>\n",
              "</table>\n",
              "<p>177 rows × 12 columns</p>\n",
              "</div>"
            ],
            "text/plain": [
              "             PassengerId  Survived  Pclass  ...     Fare Cabin  Embarked\n",
              "PassengerId                                 ...                         \n",
              "6                      6         0       3  ...   8.4583   NaN         Q\n",
              "18                    18         1       2  ...  13.0000   NaN         S\n",
              "20                    20         1       3  ...   7.2250   NaN         C\n",
              "27                    27         0       3  ...   7.2250   NaN         C\n",
              "29                    29         1       3  ...   7.8792   NaN         Q\n",
              "...                  ...       ...     ...  ...      ...   ...       ...\n",
              "860                  860         0       3  ...   7.2292   NaN         C\n",
              "864                  864         0       3  ...  69.5500   NaN         S\n",
              "869                  869         0       3  ...   9.5000   NaN         S\n",
              "879                  879         0       3  ...   7.8958   NaN         S\n",
              "889                  889         0       3  ...  23.4500   NaN         S\n",
              "\n",
              "[177 rows x 12 columns]"
            ]
          },
          "metadata": {
            "tags": []
          },
          "execution_count": 59
        }
      ]
    },
    {
      "cell_type": "markdown",
      "metadata": {
        "id": "N1UBSbpJ8RUd"
      },
      "source": [
        "Missing values are a ubiquitous problem in data wrangling, yet many underestimate the difficulty of working with missing data. pandas uses NumPy’s NaN (“Not A Number”) value to denote missing values, but it is important to note that NaN is not fully implemented natively in pandas."
      ]
    },
    {
      "cell_type": "code",
      "metadata": {
        "colab": {
          "base_uri": "https://localhost:8080/",
          "height": 185
        },
        "id": "v3gV1g738beO",
        "outputId": "90c85498-79a2-454e-a81d-6aed50ef38e0"
      },
      "source": [
        "# Attempt to replace values with NaN\n",
        "dataframe['Sex'] = dataframe['Sex'].replace('male', NaN)"
      ],
      "execution_count": 60,
      "outputs": [
        {
          "output_type": "error",
          "ename": "NameError",
          "evalue": "ignored",
          "traceback": [
            "\u001b[0;31m---------------------------------------------------------------------------\u001b[0m",
            "\u001b[0;31mNameError\u001b[0m                                 Traceback (most recent call last)",
            "\u001b[0;32m<ipython-input-60-37a972725f2e>\u001b[0m in \u001b[0;36m<module>\u001b[0;34m()\u001b[0m\n\u001b[1;32m      1\u001b[0m \u001b[0;31m# Attempt to replace values with NaN\u001b[0m\u001b[0;34m\u001b[0m\u001b[0;34m\u001b[0m\u001b[0;34m\u001b[0m\u001b[0m\n\u001b[0;32m----> 2\u001b[0;31m \u001b[0mdataframe\u001b[0m\u001b[0;34m[\u001b[0m\u001b[0;34m'Sex'\u001b[0m\u001b[0;34m]\u001b[0m \u001b[0;34m=\u001b[0m \u001b[0mdataframe\u001b[0m\u001b[0;34m[\u001b[0m\u001b[0;34m'Sex'\u001b[0m\u001b[0;34m]\u001b[0m\u001b[0;34m.\u001b[0m\u001b[0mreplace\u001b[0m\u001b[0;34m(\u001b[0m\u001b[0;34m'male'\u001b[0m\u001b[0;34m,\u001b[0m \u001b[0mNaN\u001b[0m\u001b[0;34m)\u001b[0m\u001b[0;34m\u001b[0m\u001b[0;34m\u001b[0m\u001b[0m\n\u001b[0m",
            "\u001b[0;31mNameError\u001b[0m: name 'NaN' is not defined"
          ]
        }
      ]
    },
    {
      "cell_type": "code",
      "metadata": {
        "id": "l88wZD5V8kFe"
      },
      "source": [
        "# Using numpy for replacing value with NaN\n",
        "import numpy as np\n",
        "# Replace values with NaN\n",
        "dataframe['Sex'] = dataframe['Sex'].replace('male', np.nan)"
      ],
      "execution_count": 61,
      "outputs": []
    },
    {
      "cell_type": "code",
      "metadata": {
        "colab": {
          "base_uri": "https://localhost:8080/"
        },
        "id": "G8irpRB4882m",
        "outputId": "41fc59a4-7bdf-41e1-dd4a-c4e409d08ec5"
      },
      "source": [
        "# Deleting column\n",
        "\n",
        "print(\"Deleting Single column: \\n{}\\n\" \n",
        "      .format(dataframe.drop('Age', axis=1).head()))\n",
        "\n",
        "# Drop columns\n",
        "print(\"Deleting multiple columns: \\n{}\\n\" \n",
        "      .format(dataframe.drop(['Age', 'Sex'], axis=1).head()))\n",
        "\n",
        "# If a column does not have a name, you can drop it by\n",
        "# its column index using dataframe.columns:\n",
        "\n",
        "print(\"Deleting column with its index: \\n{}\" \n",
        "      .format(dataframe.drop(dataframe.columns[1], axis=1).head()))"
      ],
      "execution_count": 67,
      "outputs": [
        {
          "output_type": "stream",
          "text": [
            "Deleting Single column: \n",
            "             PassengerId  Survived  Pclass  ...     Fare Cabin  Embarked\n",
            "PassengerId                                 ...                         \n",
            "1                      1         0       3  ...   7.2500   NaN         S\n",
            "2                      2         1       1  ...  71.2833   C85         C\n",
            "3                      3         1       3  ...   7.9250   NaN         S\n",
            "4                      4         1       1  ...  53.1000  C123         S\n",
            "5                      5         0       3  ...   8.0500   NaN         S\n",
            "\n",
            "[5 rows x 11 columns]\n",
            "\n",
            "Deleting multiple columns: \n",
            "             PassengerId  Survived  Pclass  ...     Fare  Cabin  Embarked\n",
            "PassengerId                                 ...                          \n",
            "1                      1         0       3  ...   7.2500    NaN         S\n",
            "2                      2         1       1  ...  71.2833    C85         C\n",
            "3                      3         1       3  ...   7.9250    NaN         S\n",
            "4                      4         1       1  ...  53.1000   C123         S\n",
            "5                      5         0       3  ...   8.0500    NaN         S\n",
            "\n",
            "[5 rows x 10 columns]\n",
            "\n",
            "Deleting column with its index: \n",
            "             PassengerId  Pclass  ... Cabin Embarked\n",
            "PassengerId                       ...               \n",
            "1                      1       3  ...   NaN        S\n",
            "2                      2       1  ...   C85        C\n",
            "3                      3       3  ...   NaN        S\n",
            "4                      4       1  ...  C123        S\n",
            "5                      5       3  ...   NaN        S\n",
            "\n",
            "[5 rows x 11 columns]\n"
          ],
          "name": "stdout"
        }
      ]
    },
    {
      "cell_type": "code",
      "metadata": {
        "id": "lidfU6dh9tDe"
      },
      "source": [
        "# Deleting rows\n",
        "\n",
        "print(\"Deleting rows which has Female data: \\n{}\\n\" \n",
        "      .format(dataframe[dataframe['Sex'] != 'female'].head()))"
      ],
      "execution_count": null,
      "outputs": []
    },
    {
      "cell_type": "markdown",
      "metadata": {
        "id": "Fswt1Z3l_ObW"
      },
      "source": [
        "Technically you can use the drop method (for example, df.drop([0, 1],\n",
        "axis=0) to drop the first two rows), a more practical method is simply to wrap a\n",
        "boolean condition inside df[]. The reason is because we can use the power of conditionals to delete either a single row or (far more likely) many rows at once."
      ]
    },
    {
      "cell_type": "code",
      "metadata": {
        "colab": {
          "base_uri": "https://localhost:8080/"
        },
        "id": "NU2_-WJJ_m7G",
        "outputId": "56366919-522a-4eeb-9fbe-790a08d6cca5"
      },
      "source": [
        "# Dropping duplicate Rows\n",
        "\n",
        "print(\"Dropping dublicate values from our dataset: \\n{}\\n\" \n",
        "      .format(dataframe.drop_duplicates()))\n",
        "\n",
        "# The output show we don't have any dublicate rows as\n",
        "# no of samples remains same after exicuting it.\n",
        "\n",
        "# Show number of rows\n",
        "print(\"Number Of Rows In The Original DataFrame:\\n\", len(dataframe))\n",
        "print(\"Number Of Rows After Deduping:\\n\", len(dataframe.drop_duplicates()))"
      ],
      "execution_count": 75,
      "outputs": [
        {
          "output_type": "stream",
          "text": [
            "Dropping dublicate values from our dataset: \n",
            "             PassengerId  Survived  Pclass  ...     Fare Cabin  Embarked\n",
            "PassengerId                                 ...                         \n",
            "1                      1         0       3  ...   7.2500   NaN         S\n",
            "2                      2         1       1  ...  71.2833   C85         C\n",
            "3                      3         1       3  ...   7.9250   NaN         S\n",
            "4                      4         1       1  ...  53.1000  C123         S\n",
            "5                      5         0       3  ...   8.0500   NaN         S\n",
            "...                  ...       ...     ...  ...      ...   ...       ...\n",
            "887                  887         0       2  ...  13.0000   NaN         S\n",
            "888                  888         1       1  ...  30.0000   B42         S\n",
            "889                  889         0       3  ...  23.4500   NaN         S\n",
            "890                  890         1       1  ...  30.0000  C148         C\n",
            "891                  891         0       3  ...   7.7500   NaN         Q\n",
            "\n",
            "[891 rows x 12 columns]\n",
            "\n",
            "Number Of Rows In The Original DataFrame:\n",
            " 891\n",
            "Number Of Rows After Deduping:\n",
            " 891\n"
          ],
          "name": "stdout"
        }
      ]
    },
    {
      "cell_type": "code",
      "metadata": {
        "colab": {
          "base_uri": "https://localhost:8080/"
        },
        "id": "RgfSqu88BruY",
        "outputId": "a24b1dc9-f568-40b2-c2b4-667ad7efa88f"
      },
      "source": [
        "# Grouping rows by values\n",
        " \n",
        "print(\"Mean of all other attributes which have survived:\\n{}\\n\" \n",
        "      .format(dataframe.groupby('Survived').mean()))\n",
        "\n",
        "# Grouping and counting who have survived or not in PassengerId\n",
        "print(\"Counting the survived and not-survived:\\n{}\\n\" \n",
        "      .format(dataframe.groupby('Survived')['PassengerId'].count()))\n",
        "\n",
        "# Groupping Gender then grouping them who have survived or not and calculating mean of their age\n",
        "print(\"Mean of age of a genders who have survived or not: \\n{}\" \n",
        "      .format(dataframe.groupby(['Sex','Survived'])['Age'].mean()))"
      ],
      "execution_count": 85,
      "outputs": [
        {
          "output_type": "stream",
          "text": [
            "Mean of all other attributes which have survived:\n",
            "          PassengerId    Pclass        Age     SibSp     Parch       Fare\n",
            "Survived                                                                 \n",
            "0          447.016393  2.531876  30.626179  0.553734  0.329690  22.117887\n",
            "1          444.368421  1.950292  28.343690  0.473684  0.464912  48.395408\n",
            "\n",
            "Counting the survived and not-survived:\n",
            "Survived\n",
            "0    549\n",
            "1    342\n",
            "Name: PassengerId, dtype: int64\n",
            "\n",
            "Mean of age of a genders who have survived or not: \n",
            "Sex     Survived\n",
            "female  0           25.046875\n",
            "        1           28.847716\n",
            "Name: Age, dtype: float64\n"
          ],
          "name": "stdout"
        }
      ]
    },
    {
      "cell_type": "code",
      "metadata": {
        "colab": {
          "base_uri": "https://localhost:8080/",
          "height": 227
        },
        "id": "T8iII3HvE8uI",
        "outputId": "3554d744-23d8-4988-8d23-e0d89456c116"
      },
      "source": [
        "# Grouping Row by time\n",
        "\n",
        "# Create date range\n",
        "time_index = pd.date_range('06/06/2017', periods=100000, freq='30S')\n",
        "# Create DataFrame\n",
        "dataframe = pd.DataFrame(index=time_index)\n",
        "# Create column of random values\n",
        "dataframe['Sale_Amount'] = np.random.randint(1, 10, 100000)\n",
        "\n",
        "# Group rows by week, calculate sum per week\n",
        "dataframe.resample('W').sum()"
      ],
      "execution_count": 87,
      "outputs": [
        {
          "output_type": "execute_result",
          "data": {
            "text/html": [
              "<div>\n",
              "<style scoped>\n",
              "    .dataframe tbody tr th:only-of-type {\n",
              "        vertical-align: middle;\n",
              "    }\n",
              "\n",
              "    .dataframe tbody tr th {\n",
              "        vertical-align: top;\n",
              "    }\n",
              "\n",
              "    .dataframe thead th {\n",
              "        text-align: right;\n",
              "    }\n",
              "</style>\n",
              "<table border=\"1\" class=\"dataframe\">\n",
              "  <thead>\n",
              "    <tr style=\"text-align: right;\">\n",
              "      <th></th>\n",
              "      <th>Sale_Amount</th>\n",
              "    </tr>\n",
              "  </thead>\n",
              "  <tbody>\n",
              "    <tr>\n",
              "      <th>2017-06-11</th>\n",
              "      <td>86089</td>\n",
              "    </tr>\n",
              "    <tr>\n",
              "      <th>2017-06-18</th>\n",
              "      <td>100997</td>\n",
              "    </tr>\n",
              "    <tr>\n",
              "      <th>2017-06-25</th>\n",
              "      <td>100647</td>\n",
              "    </tr>\n",
              "    <tr>\n",
              "      <th>2017-07-02</th>\n",
              "      <td>100859</td>\n",
              "    </tr>\n",
              "    <tr>\n",
              "      <th>2017-07-09</th>\n",
              "      <td>101399</td>\n",
              "    </tr>\n",
              "    <tr>\n",
              "      <th>2017-07-16</th>\n",
              "      <td>10411</td>\n",
              "    </tr>\n",
              "  </tbody>\n",
              "</table>\n",
              "</div>"
            ],
            "text/plain": [
              "            Sale_Amount\n",
              "2017-06-11        86089\n",
              "2017-06-18       100997\n",
              "2017-06-25       100647\n",
              "2017-07-02       100859\n",
              "2017-07-09       101399\n",
              "2017-07-16        10411"
            ]
          },
          "metadata": {
            "tags": []
          },
          "execution_count": 87
        }
      ]
    },
    {
      "cell_type": "markdown",
      "metadata": {
        "id": "Xq0g5YUtFSyI"
      },
      "source": [
        "Notice that the date and time of each sale is the index of the DataFrame; this is because resample requires the index to be datetime-like values.\n",
        "Using resample we can group the rows by a wide array of time periods (offsets) and then we can calculate some statistic on each time group:"
      ]
    },
    {
      "cell_type": "code",
      "metadata": {
        "colab": {
          "base_uri": "https://localhost:8080/"
        },
        "id": "gpIeSCl7FV3X",
        "outputId": "d155187f-5468-4782-989b-c40d2aa74722"
      },
      "source": [
        "# Group by two weeks, calculate mean\n",
        "print(\"# Group by two weeks and calculating mean: \\n{}\\n\" \n",
        "      .format(dataframe.resample('2W').mean()))\n",
        "\n",
        "# Group by month, count rows\n",
        "print(\"Group by month and counting rows: \\n{}\\n\" \n",
        "      .format(dataframe.resample('M').count()))"
      ],
      "execution_count": 89,
      "outputs": [
        {
          "output_type": "stream",
          "text": [
            "# Group by two weeks and calculating mean: \n",
            "            Sale_Amount\n",
            "2017-06-11     4.982002\n",
            "2017-06-25     5.001091\n",
            "2017-07-09     5.016319\n",
            "2017-07-23     5.005288\n",
            "\n",
            "Group by month and counting rows: \n",
            "            Sale_Amount\n",
            "2017-06-30        72000\n",
            "2017-07-31        28000\n",
            "\n"
          ],
          "name": "stdout"
        }
      ]
    },
    {
      "cell_type": "code",
      "metadata": {
        "id": "UErkgq7q2Q51"
      },
      "source": [
        "# Looping Over a Column\n",
        "\n",
        "for name in dataframe['PassengerId'][0:5]:\n",
        "  print(name.upper())\n"
      ],
      "execution_count": null,
      "outputs": []
    },
    {
      "cell_type": "code",
      "metadata": {
        "id": "vlB45okp4FC0"
      },
      "source": [
        "# Applying function over all the column\n",
        "\n",
        "def upper(x):\n",
        "  return x.upper()\n",
        "\n",
        "data['Country'].apply(upper)[0:5]"
      ],
      "execution_count": null,
      "outputs": []
    },
    {
      "cell_type": "code",
      "metadata": {
        "id": "FmSNlmOR8rRO"
      },
      "source": [
        "# Apply a functon to Group\n",
        "\n",
        "data.groupby('Purchased').apply(lambda x: x.count())"
      ],
      "execution_count": null,
      "outputs": []
    }
  ]
}