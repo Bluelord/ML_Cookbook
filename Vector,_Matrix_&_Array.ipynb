{
  "nbformat": 4,
  "nbformat_minor": 0,
  "metadata": {
    "colab": {
      "name": "Vector, Matrix & Array.ipynb",
      "provenance": [],
      "authorship_tag": "ABX9TyMCazdAxNWtSQLQE1juhBQ9",
      "include_colab_link": true
    },
    "kernelspec": {
      "name": "python3",
      "display_name": "Python 3"
    },
    "language_info": {
      "name": "python"
    }
  },
  "cells": [
    {
      "cell_type": "markdown",
      "metadata": {
        "id": "view-in-github",
        "colab_type": "text"
      },
      "source": [
        "<a href=\"https://colab.research.google.com/github/Bluelord/ML_Cookbook/blob/main/Vector%2C_Matrix_%26_Array.ipynb\" target=\"_parent\"><img src=\"https://colab.research.google.com/assets/colab-badge.svg\" alt=\"Open In Colab\"/></a>"
      ]
    },
    {
      "cell_type": "markdown",
      "metadata": {
        "id": "kyiHaPqs32h4"
      },
      "source": [
        "# Vector, Matrix & Array"
      ]
    },
    {
      "cell_type": "code",
      "metadata": {
        "id": "QL4QpYGfbLkm",
        "colab": {
          "base_uri": "https://localhost:8080/"
        },
        "outputId": "d3e8c431-7cbb-4a27-a088-41f4e85b49c0"
      },
      "source": [
        "# Creating a Vector\n",
        "\n",
        "# load library \n",
        "import numpy as np\n",
        "\n",
        "# crate a vector as a row\n",
        "v_row = np.array([1,3,4])\n",
        "\n",
        "# create a vector as a column\n",
        "v_col  = np.array([[1],\n",
        "                  [3],\n",
        "                  [4]])\n",
        "\n",
        "print(\"Row Vector: %s \" % v_row)\n",
        "print(\"Column Vector:\\n %s \" % v_col)"
      ],
      "execution_count": 2,
      "outputs": [
        {
          "output_type": "stream",
          "text": [
            "Row Vector: [1 3 4] \n",
            "Column Vector:\n",
            " [[1]\n",
            " [3]\n",
            " [4]] \n"
          ],
          "name": "stdout"
        }
      ]
    },
    {
      "cell_type": "code",
      "metadata": {
        "id": "Tp4VvhV44cUF",
        "colab": {
          "base_uri": "https://localhost:8080/"
        },
        "outputId": "567b420f-d330-480e-d778-2dc592171abc"
      },
      "source": [
        "# Creating a Matrix\n",
        "A = np.array([[2,4,6],\n",
        "                  [5,3,6],\n",
        "                  [5,6,6]])\n",
        "\n",
        "# numpy also as dedicated matrix data structure \n",
        "\n",
        "B = np.mat([[2,4,6],\n",
        "            [5,3,6],\n",
        "            [5,6,6]])\n",
        "\n",
        "print(\"Matrix A:\\n %s \\n\" % A)\n",
        "print(\"Matrix B:\\n %s \" % B)"
      ],
      "execution_count": 3,
      "outputs": [
        {
          "output_type": "stream",
          "text": [
            "Matrix A:\n",
            " [[2 4 6]\n",
            " [5 3 6]\n",
            " [5 6 6]] \n",
            "\n",
            "Matrix B:\n",
            " [[2 4 6]\n",
            " [5 3 6]\n",
            " [5 6 6]] \n"
          ],
          "name": "stdout"
        }
      ]
    },
    {
      "cell_type": "markdown",
      "metadata": {
        "id": "x4M8PMNh6rMb"
      },
      "source": [
        "Inspite of having matrix data structure, it is not recommended for two reasons, arrays are the by default data structure of NumPy, the vast majarity of NumPy operation returns array, not matrix object.\n",
        "\n"
      ]
    },
    {
      "cell_type": "code",
      "metadata": {
        "id": "LTowcbIq72Nq",
        "colab": {
          "base_uri": "https://localhost:8080/"
        },
        "outputId": "9cf254b0-da6c-4ea2-ca59-589b26a744b9"
      },
      "source": [
        "# Creating the Spare Matrix \n",
        "\n",
        "# import libraries \n",
        "import numpy as np\n",
        "from scipy import sparse\n",
        "# creat a matrix\n",
        "matrix = np.array([[0,0],\n",
        "                  [0,2],\n",
        "                  [9,0]])\n",
        "# create compressed spared row (CSR) matrix\n",
        "mat_sparse = sparse.csr_matrix(matrix) # Only stores only the non zero elements\n",
        "\n",
        "print(\"Matrix :\\n %s \\n\" % matrix)\n",
        "print(\"Mat_sparse:\\n %s \" % mat_sparse)"
      ],
      "execution_count": 4,
      "outputs": [
        {
          "output_type": "stream",
          "text": [
            "Matrix :\n",
            " [[0 0]\n",
            " [0 2]\n",
            " [9 0]] \n",
            "\n",
            "Mat_sparse:\n",
            "   (1, 1)\t2\n",
            "  (2, 0)\t9 \n"
          ],
          "name": "stdout"
        }
      ]
    },
    {
      "cell_type": "markdown",
      "metadata": {
        "id": "PFCkToz6ZZc8"
      },
      "source": [
        "There are many different types of sparse matrices, such as compressed\n",
        "sparse column, list of lists, and dictionary of keys. The worth noting\n",
        "that while there is no “best” sparse matrix type."
      ]
    },
    {
      "cell_type": "code",
      "metadata": {
        "colab": {
          "base_uri": "https://localhost:8080/"
        },
        "id": "obAl-nRqZJCd",
        "outputId": "bf3fcf97-14e2-49fb-df47-ea8607dd4073"
      },
      "source": [
        "# Create larger matrix\n",
        "matrix_large = np.array([[0, 0, 0, 0, 0, 0, 0, 0, 0, 0], \n",
        "                         [0, 1, 0, 0, 0, 0, 0, 0, 0, 0],\n",
        "                         [3, 0, 0, 0, 0, 0, 0, 0, 0, 0]])\n",
        "# Create compressed sparse row (CSR) matrix\n",
        "mat_large_sparse = sparse.csr_matrix(matrix_large)\n",
        "# View original sparse matrix\n",
        "print(mat_sparse)\n",
        "\n",
        "# View larger sparse matrix\n",
        "print(mat_large_sparse)\n"
      ],
      "execution_count": 7,
      "outputs": [
        {
          "output_type": "stream",
          "text": [
            "  (1, 1)\t2\n",
            "  (2, 0)\t9\n",
            "  (1, 1)\t1\n",
            "  (2, 0)\t3\n"
          ],
          "name": "stdout"
        }
      ]
    },
    {
      "cell_type": "code",
      "metadata": {
        "id": "l7IcFvO48tTC",
        "colab": {
          "base_uri": "https://localhost:8080/"
        },
        "outputId": "cf5e3fd7-9d91-4d48-98d5-b8eb4e99222b"
      },
      "source": [
        "# Selecting Elements\n",
        "\n",
        "Vector = np.array([3,5,5,7,2,9,5,8])\n",
        "\n",
        "matrix = np.array([[3,5,7,8],\n",
        "                   [3,6,2,3],\n",
        "                   [8,2,9,6],\n",
        "                   [4,5,6,7]])\n",
        "\n",
        "print(\"4th element of vector :\\n {} \" .format(Vector[4]))\n",
        "print(\"3rd row, 3 column of Matrix :\\n {} \" .format(matrix[2,2]))\n",
        "\n",
        "print(\"All the element of vector: \\n {} \" .format(Vector[:]))\n",
        "print(\"Element of Vector upto & including 5th element:\\n {} \" .format(Vector[:5]))\n",
        "print(\"Element after 4rd element:\\n {} \" .format(Vector[4:]))\n",
        "print(\"Select the last element of vector:\\n {} \" .format(Vector[-1]))\n",
        "\n",
        "print(\"Select 2nd,3rd row & all columns of Matrix:\\n {} \" .format(matrix[1:2,:]))\n",
        "print(\"Select all the row of 3rd columns of Matrix:\\n {} \" .format(matrix[:,2:3]))"
      ],
      "execution_count": 8,
      "outputs": [
        {
          "output_type": "stream",
          "text": [
            "4th element of vector :\n",
            " 2 \n",
            "3rd row, 3 column of Matrix :\n",
            " 9 \n",
            "All the element of vector: \n",
            " [3 5 5 7 2 9 5 8] \n",
            "Element of Vector upto & including 5th element:\n",
            " [3 5 5 7 2] \n",
            "Element after 4rd element:\n",
            " [2 9 5 8] \n",
            "Select the last element of vector:\n",
            " 8 \n",
            "Select 2nd,3rd row & all columns of Matrix:\n",
            " [[3 6 2 3]] \n",
            "Select all the row of 3rd columns of Matrix:\n",
            " [[7]\n",
            " [2]\n",
            " [9]\n",
            " [6]] \n"
          ],
          "name": "stdout"
        }
      ]
    },
    {
      "cell_type": "code",
      "metadata": {
        "id": "3shGtsVp9yVD",
        "colab": {
          "base_uri": "https://localhost:8080/"
        },
        "outputId": "d931fe0f-6dc6-4195-d6aa-6f215ab3482e"
      },
      "source": [
        "# Discribing the matrix \n",
        "matrix = np.array([[3,5,7,8],\n",
        "                   [3,6,2,3],\n",
        "                   [8,2,9,6],\n",
        "                   [4,5,6,7]])\n",
        "\n",
        "print(\"shape of a Matrix:\\n {} \" .format(matrix.shape)) # number of row & columns\n",
        "print(\"size of a Matrix:\\n {} \" .format(matrix.size)) # number of elements row*columns\n",
        "print(\"Dimention of a Matrix:\\n {} \" .format(matrix.ndim)) # Dimention of a matrix"
      ],
      "execution_count": 9,
      "outputs": [
        {
          "output_type": "stream",
          "text": [
            "shape of a Matrix:\n",
            " (4, 4) \n",
            "size of a Matrix:\n",
            " 16 \n",
            "Dimention of a Matrix:\n",
            " 2 \n"
          ],
          "name": "stdout"
        }
      ]
    },
    {
      "cell_type": "code",
      "metadata": {
        "colab": {
          "base_uri": "https://localhost:8080/"
        },
        "id": "mWaer2U1bCMK",
        "outputId": "d9214329-45fe-48ce-e112-cfdcd3dae489"
      },
      "source": [
        "# Applying Operations to Elements\n",
        "\n",
        "matrix = np.array([[1, 2, 3], \n",
        "                   [4, 5, 6],\n",
        "                   [7, 8, 9]])\n",
        "# Create function that adds 100 to something\n",
        "add_100 = lambda i: i + 100\n",
        "# Create vectorized function\n",
        "vectorized_add_100 = np.vectorize(add_100)\n",
        "# Apply function to all elements in matrix\n",
        "vectorized_add_100(matrix)"
      ],
      "execution_count": 12,
      "outputs": [
        {
          "output_type": "execute_result",
          "data": {
            "text/plain": [
              "array([[101, 102, 103],\n",
              "       [104, 105, 106],\n",
              "       [107, 108, 109]])"
            ]
          },
          "metadata": {
            "tags": []
          },
          "execution_count": 12
        }
      ]
    },
    {
      "cell_type": "markdown",
      "metadata": {
        "id": "LXipMgNMbWSc"
      },
      "source": [
        "NumPy’s vectorize class converts a function into a function that can apply to all elements in an array or slice of an array. It’s worth noting that vectorize is essentially a for loop over the elements and does not increase performance."
      ]
    },
    {
      "cell_type": "code",
      "metadata": {
        "colab": {
          "base_uri": "https://localhost:8080/"
        },
        "id": "PebWt_IIboOq",
        "outputId": "79bd29d5-d51e-455b-a3f5-b8c23381f8f9"
      },
      "source": [
        "# Add 100 to all elements\n",
        "matrix + 100"
      ],
      "execution_count": 13,
      "outputs": [
        {
          "output_type": "execute_result",
          "data": {
            "text/plain": [
              "array([[101, 102, 103],\n",
              "       [104, 105, 106],\n",
              "       [107, 108, 109]])"
            ]
          },
          "metadata": {
            "tags": []
          },
          "execution_count": 13
        }
      ]
    },
    {
      "cell_type": "code",
      "metadata": {
        "id": "mVTDF-BlIVGT",
        "colab": {
          "base_uri": "https://localhost:8080/"
        },
        "outputId": "9f8ded53-88d9-47c0-8044-62a07d5937e8"
      },
      "source": [
        "# Statistical values in a matrix\n",
        "matrix = np.array([[3,5,7,8],\n",
        "                   [3,6,2,3],\n",
        "                   [8,2,9,6],\n",
        "                   [4,5,6,7]])\n",
        "\n",
        "print(\"Maximum value of a Matrix:\\n {} \" .format(np.max(matrix)))\n",
        "print(\"Minimum value of a Matrix:\\n {} \" .format(np.min(matrix)))\n",
        "print(\"Max values in each coulum Matrix:\\n {} \" .format(np.max(matrix, axis=0))) # to get max value in row use axis=1\n",
        "print(\"Mean value of each a Matrix:\\n {} \" .format(np.max(matrix, axis=0)))\n",
        "print(\"Varience value of each a Matrix:\\n {} \" .format(np.var(matrix, axis=0)))\n",
        "print(\"Standard Daviation value of each a Matrix:\\n {} \" .format(np.std(matrix, axis=0)))"
      ],
      "execution_count": 10,
      "outputs": [
        {
          "output_type": "stream",
          "text": [
            "Maximum value of a Matrix:\n",
            " 9 \n",
            "Minimum value of a Matrix:\n",
            " 2 \n",
            "Max values in each coulum Matrix:\n",
            " [8 6 9 8] \n",
            "Mean value of each a Matrix:\n",
            " [8 6 9 8] \n",
            "Varience value of each a Matrix:\n",
            " [4.25 2.25 6.5  3.5 ] \n",
            "Standard Daviation value of each a Matrix:\n",
            " [2.06155281 1.5        2.54950976 1.87082869] \n"
          ],
          "name": "stdout"
        }
      ]
    },
    {
      "cell_type": "code",
      "metadata": {
        "id": "oB01QPeZJ-Er",
        "colab": {
          "base_uri": "https://localhost:8080/"
        },
        "outputId": "be8fe7eb-0b9d-4cad-8d66-cf5e2250640c"
      },
      "source": [
        "# Reshping the array\n",
        "matrix = np.array([[3,5,7,8],\n",
        "                   [3,6,2,3],\n",
        "                   [8,2,9,6],\n",
        "                   [4,5,6,7]])\n",
        "\n",
        "print(\"Reshaaped Matrix:\\n {} \" .format(matrix.reshape(2,8))) # size of a matrix shoud not change \n",
        "print(\"Reshape in single row Matrix:\\n {} \" .format(matrix.reshape(1,-1))) # -1 means as many as needed\n",
        "print(\"Reshaaped Matrix:\\n {} \" .format(matrix.reshape(16))) # this will gives a 1D array we should know the size of matix before we use this \n",
        "\n",
        "print(\"Flatten Matrix:\\n {} \" .format(matrix.flatten())) # this is an alternate way to get 1D array from the matix"
      ],
      "execution_count": 11,
      "outputs": [
        {
          "output_type": "stream",
          "text": [
            "Reshaaped Matrix:\n",
            " [[3 5 7 8 3 6 2 3]\n",
            " [8 2 9 6 4 5 6 7]] \n",
            "Reshape in single row Matrix:\n",
            " [[3 5 7 8 3 6 2 3 8 2 9 6 4 5 6 7]] \n",
            "Reshaaped Matrix:\n",
            " [3 5 7 8 3 6 2 3 8 2 9 6 4 5 6 7] \n",
            "Flatten Matrix:\n",
            " [3 5 7 8 3 6 2 3 8 2 9 6 4 5 6 7] \n"
          ],
          "name": "stdout"
        }
      ]
    },
    {
      "cell_type": "markdown",
      "metadata": {
        "id": "gtvuyRSQcAPz"
      },
      "source": [
        "Reshape allows us to restructure an array so that we maintain the same data but it is organized as a different number of rows and columns.\n",
        "One useful argument in reshape is -1,so reshape(-1, 1) means one row and as many columns as needed:"
      ]
    },
    {
      "cell_type": "code",
      "metadata": {
        "id": "FZRs1n97OKX3",
        "colab": {
          "base_uri": "https://localhost:8080/"
        },
        "outputId": "00026fef-afdc-4df2-aded-09b2a9ce0bb6"
      },
      "source": [
        "# Matrix algebra\n",
        "matrix_A = np.array([[3,5,7],\n",
        "                   [3,6,2],\n",
        "                   [8,2,9]])\n",
        "\n",
        "matrix_B = np.mat([[2,4,6],\n",
        "                  [5,3,6],\n",
        "                  [5,6,6]])\n",
        "print(\"Rank of  Matrix:\\n {} \" .format(np.linalg.matrix_rank(matrix))) # Rank of a Materix\n",
        "print(\"Determinant of  Matrix:\\n {} \" .format(np.linalg.det(matrix))) # Determinant of a Matrix\n",
        "print(\"Diagonal of  Matrix:\\n {} \" .format(matrix_A.diagonal())) # Getting the digonal values\n",
        "print(\"Trace of  Matrix:\\n {} \" .format(matrix_B.trace()))\n",
        "eigenvalues, eigenvectors = np.linalg.eig(matrix)\n",
        "print(\"Eiganvalues of a Matrix:\\n {} \\nEiganvectors of a Matrix: \\n {}\" .format(eigenvalues, eigenvectors))\n",
        "print(\"Invers of a Matrix:\\n {}\" .format(np.linalg.inv(matrix_A)))\n",
        "\n",
        "print(\"Dot product of a Matrix:\\n {}\" .format(np.dot(matrix_B, matrix_A))) # similarly np.add() & np.subtract() for addition & subtraction of same shape matrix\n",
        "print(\"Element wise multiplecation of a Matrix:\\n {}\" .format((matrix_A*matrix_B)))"
      ],
      "execution_count": 19,
      "outputs": [
        {
          "output_type": "stream",
          "text": [
            "Rank of  Matrix:\n",
            " 2 \n",
            "Determinant of  Matrix:\n",
            " 0.0 \n",
            "Diagonal of  Matrix:\n",
            " [3 6 9] \n",
            "Trace of  Matrix:\n",
            " [[11]] \n",
            "Eiganvalues of a Matrix:\n",
            " [ 1.61168440e+01 -1.11684397e+00 -9.75918483e-16] \n",
            "Eiganvectors of a Matrix: \n",
            " [[-0.23197069 -0.78583024  0.40824829]\n",
            " [-0.52532209 -0.08675134 -0.81649658]\n",
            " [-0.8186735   0.61232756  0.40824829]]\n",
            "Invers of a Matrix:\n",
            " [[-0.25125628  0.15577889  0.16080402]\n",
            " [ 0.05527638  0.14572864 -0.07537688]\n",
            " [ 0.21105528 -0.17085427 -0.01507538]]\n",
            "Dot product of a Matrix:\n",
            " [[ 66  46  76]\n",
            " [ 72  55  95]\n",
            " [ 81  73 101]]\n",
            "Element wise multiplecation of a Matrix:\n",
            " [[ 66  69  90]\n",
            " [ 46  42  66]\n",
            " [ 71  92 114]]\n"
          ],
          "name": "stdout"
        }
      ]
    },
    {
      "cell_type": "code",
      "metadata": {
        "id": "UR7yjjoaP6DG",
        "colab": {
          "base_uri": "https://localhost:8080/"
        },
        "outputId": "0a5a3c0a-f77c-43c5-d41c-4827bcbc6478"
      },
      "source": [
        "# Genaration random \n",
        "\n",
        "print(\"Set a seed:\\n {}\" .format(np.random.seed(0)))\n",
        "print(\"Set a seed:\\n {}\" .format(np.random.seed(7)))\n",
        "print(\"Generating 3 random float:\\n {}\" .format(np.random.random(3)))\n",
        "print(\"Generating 3 random integet between 1 & 15:\\n {}\" .format(np.random.randint(0,15,3))) # (0,15,3) this define the start and end point and 3 define no of random numbers\n",
        "print(\"Generating 3 random float:\\n {}\" .format(np.random.random(3)))\n",
        "print(\"Draw numbers from normal distribution with mean 0.0 & std 1.0:\\n {}\" .format(np.random.normal(0.0,1.0,4)))\n",
        "print(\"Draw numbers from logistic distribution with mean 0.0 & std 1.0:\\n {}\" .format(np.random.normal(0.0,1.0,4)))\n"
      ],
      "execution_count": 20,
      "outputs": [
        {
          "output_type": "stream",
          "text": [
            "Set a seed:\n",
            " None\n",
            "Set a seed:\n",
            " None\n",
            "Generating 3 random float:\n",
            " [0.07630829 0.77991879 0.43840923]\n",
            "Generating 3 random integet between 1 & 15:\n",
            " [ 7  7 12]\n",
            "Generating 3 random float:\n",
            " [0.30801277 0.26387084 0.08674343]\n",
            "Draw numbers from normal distribution with mean 0.0 & std 1.0:\n",
            " [-0.26946586 -0.04488102  1.09512469  0.08244521]\n",
            "Draw numbers from logistic distribution with mean 0.0 & std 1.0:\n",
            " [-1.02327262 -1.61686249  1.18707736  1.20094576]\n"
          ],
          "name": "stdout"
        }
      ]
    },
    {
      "cell_type": "code",
      "metadata": {
        "id": "-57Pf_xWfIPj"
      },
      "source": [
        ""
      ],
      "execution_count": null,
      "outputs": []
    }
  ]
}