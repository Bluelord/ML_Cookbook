{
  "nbformat": 4,
  "nbformat_minor": 0,
  "metadata": {
    "colab": {
      "name": "Loading Data.ipynb",
      "provenance": [],
      "authorship_tag": "ABX9TyMpy31TVKBlih6iOGggzSUf",
      "include_colab_link": true
    },
    "kernelspec": {
      "name": "python3",
      "display_name": "Python 3"
    },
    "language_info": {
      "name": "python"
    }
  },
  "cells": [
    {
      "cell_type": "markdown",
      "metadata": {
        "id": "view-in-github",
        "colab_type": "text"
      },
      "source": [
        "<a href=\"https://colab.research.google.com/github/Bluelord/ML_Cookbook/blob/main/Loading_Data.ipynb\" target=\"_parent\"><img src=\"https://colab.research.google.com/assets/colab-badge.svg\" alt=\"Open In Colab\"/></a>"
      ]
    },
    {
      "cell_type": "markdown",
      "metadata": {
        "id": "LuRXwIrVV1H1"
      },
      "source": [
        "## **Loading Data**"
      ]
    },
    {
      "cell_type": "code",
      "metadata": {
        "id": "Q4sBozw0-lJN",
        "colab": {
          "base_uri": "https://localhost:8080/"
        },
        "outputId": "826fb08d-e9af-4c31-d6fd-e043fc6e419e"
      },
      "source": [
        "from google.colab import drive\n",
        "drive.mount('/content/drive')"
      ],
      "execution_count": 1,
      "outputs": [
        {
          "output_type": "stream",
          "text": [
            "Mounted at /content/drive\n"
          ],
          "name": "stdout"
        }
      ]
    },
    {
      "cell_type": "code",
      "metadata": {
        "id": "nsxzHs2zVifp",
        "colab": {
          "base_uri": "https://localhost:8080/"
        },
        "outputId": "3224e891-b11a-4d29-9819-aa9715ea9a7a"
      },
      "source": [
        "# Loading a Sample Datasets from Sklearn\n",
        "\n",
        "from sklearn.datasets import load_digits\n",
        "X,y = load_digits(return_X_y = True) # load digits dataset\n",
        "print(\"View feature shape: {}\" .format(X.shape))\n",
        "print(\"first observaton: \\n{}\" .format(X[:,1:5]))"
      ],
      "execution_count": 3,
      "outputs": [
        {
          "output_type": "stream",
          "text": [
            "View feature shape: (1797, 64)\n",
            "first observaton: \n",
            "[[ 0.  5. 13.  9.]\n",
            " [ 0.  0. 12. 13.]\n",
            " [ 0.  0.  4. 15.]\n",
            " ...\n",
            " [ 0.  1. 11. 15.]\n",
            " [ 0.  2. 10.  7.]\n",
            " [ 0. 10. 14.  8.]]\n"
          ],
          "name": "stdout"
        }
      ]
    },
    {
      "cell_type": "code",
      "metadata": {
        "id": "ZBVCqyvWXBEu",
        "colab": {
          "base_uri": "https://localhost:8080/"
        },
        "outputId": "8d5fd504-f4b0-48a0-ef5e-41ac6ba5dd51"
      },
      "source": [
        "# Creating a Simulated Dataset\n",
        "\n",
        "# Regression dataset can be made with make_regression\n",
        "from sklearn.datasets import make_regression\n",
        "\n",
        "# Generating feature matrix, target vectors & true coefficient\n",
        "features, target, coefficient = make_regression(\n",
        "    n_samples = 200, n_features = 5, n_informative= 4, n_targets =1,\n",
        "    noise=25, coef = True, random_state= 70)\n",
        "\n",
        "print(\"Feature Matris for make_regression: \\n{}\" .format(features[:3]))\n",
        "print(\"Taget Vector for make_regression: \\n{}\\n\" .format(target[:3]))\n",
        "\n",
        "# Clasificaton dataset can be made with make_classification\n",
        "from sklearn.datasets import make_classification\n",
        "\n",
        "# Generating feature matrix, target vectors & true coefficient\n",
        "features, target = make_classification(\n",
        "    n_samples = 100, n_features = 3, n_informative= 3, n_redundant = 0, \n",
        "    n_classes= 2, weights = [.25,.75], random_state= 70)\n",
        "\n",
        "print(\"Feature Matris for make_classification: \\n{}\" .format(features[:3]))\n",
        "print(\"Taget Vector for make_classification: \\n{}\\n\" .format(target[:3]))\n",
        "\n",
        "# Clastering dataset can be made with make_blobs\n",
        "from sklearn.datasets import make_blobs\n",
        "\n",
        "# Generating feature matrix, target vectors & true coefficient\n",
        "features, target = make_blobs(\n",
        "    n_samples = 200, n_features = 2, centers = 3, cluster_std = 0.5,\n",
        "    shuffle = True, random_state=1)\n",
        "\n",
        "print(\"Feature Matris for make_blobs: \\n{}\" .format(features[:3]))\n",
        "print(\"Taget Vector for make_blobs: \\n{}\" .format(target[:3]))"
      ],
      "execution_count": 8,
      "outputs": [
        {
          "output_type": "stream",
          "text": [
            "Feature Matris for make_regression: \n",
            "[[ 1.67221927 -2.74159009  1.00762992  1.01266972  0.95881756]\n",
            " [ 0.44117174 -0.0464268   1.06572359  1.03088982  0.26565953]\n",
            " [-0.21200375 -0.38961794  0.51645591  0.85639192  0.0064851 ]]\n",
            "Taget Vector for make_regression: \n",
            "[ 41.21444911 100.17419575  25.22320796]\n",
            "\n",
            "Feature Matris for make_classification: \n",
            "[[-1.13275416  1.22677951 -0.80923238]\n",
            " [-1.34228456  0.34885592  1.42472582]\n",
            " [-0.59237029 -0.82463289  0.83654155]]\n",
            "Taget Vector for make_classification: \n",
            "[0 1 1]\n",
            "\n",
            "Feature Matris for make_blobs: \n",
            "[[ -7.47996813  -8.5935169 ]\n",
            " [-10.58887157  -4.28622581]\n",
            " [ -7.34362954  -7.68364373]]\n",
            "Taget Vector for make_blobs: \n",
            "[2 1 2]\n"
          ],
          "name": "stdout"
        }
      ]
    },
    {
      "cell_type": "code",
      "metadata": {
        "id": "3yKAh-NBeC7M",
        "colab": {
          "base_uri": "https://localhost:8080/",
          "height": 197
        },
        "outputId": "73f780b2-70ef-48ca-ddf7-e93c999388ab"
      },
      "source": [
        "# Loading CSV File\n",
        "\n",
        "import pandas as pd \n",
        "# Loading from a location\n",
        "dataframe = pd.read_csv(\"/content/drive/MyDrive/Colab Notebooks/ML Cookbook/Datasets/Data.csv\") \n",
        "\n",
        "dataframe.head(5)"
      ],
      "execution_count": 10,
      "outputs": [
        {
          "output_type": "execute_result",
          "data": {
            "text/html": [
              "<div>\n",
              "<style scoped>\n",
              "    .dataframe tbody tr th:only-of-type {\n",
              "        vertical-align: middle;\n",
              "    }\n",
              "\n",
              "    .dataframe tbody tr th {\n",
              "        vertical-align: top;\n",
              "    }\n",
              "\n",
              "    .dataframe thead th {\n",
              "        text-align: right;\n",
              "    }\n",
              "</style>\n",
              "<table border=\"1\" class=\"dataframe\">\n",
              "  <thead>\n",
              "    <tr style=\"text-align: right;\">\n",
              "      <th></th>\n",
              "      <th>Country</th>\n",
              "      <th>Age</th>\n",
              "      <th>Salary</th>\n",
              "      <th>Purchased</th>\n",
              "    </tr>\n",
              "  </thead>\n",
              "  <tbody>\n",
              "    <tr>\n",
              "      <th>0</th>\n",
              "      <td>France</td>\n",
              "      <td>44.0</td>\n",
              "      <td>72000.0</td>\n",
              "      <td>No</td>\n",
              "    </tr>\n",
              "    <tr>\n",
              "      <th>1</th>\n",
              "      <td>Spain</td>\n",
              "      <td>27.0</td>\n",
              "      <td>48000.0</td>\n",
              "      <td>Yes</td>\n",
              "    </tr>\n",
              "    <tr>\n",
              "      <th>2</th>\n",
              "      <td>Germany</td>\n",
              "      <td>30.0</td>\n",
              "      <td>54000.0</td>\n",
              "      <td>No</td>\n",
              "    </tr>\n",
              "    <tr>\n",
              "      <th>3</th>\n",
              "      <td>Spain</td>\n",
              "      <td>38.0</td>\n",
              "      <td>61000.0</td>\n",
              "      <td>No</td>\n",
              "    </tr>\n",
              "    <tr>\n",
              "      <th>4</th>\n",
              "      <td>Germany</td>\n",
              "      <td>40.0</td>\n",
              "      <td>NaN</td>\n",
              "      <td>Yes</td>\n",
              "    </tr>\n",
              "  </tbody>\n",
              "</table>\n",
              "</div>"
            ],
            "text/plain": [
              "   Country   Age   Salary Purchased\n",
              "0   France  44.0  72000.0        No\n",
              "1    Spain  27.0  48000.0       Yes\n",
              "2  Germany  30.0  54000.0        No\n",
              "3    Spain  38.0  61000.0        No\n",
              "4  Germany  40.0      NaN       Yes"
            ]
          },
          "metadata": {
            "tags": []
          },
          "execution_count": 10
        }
      ]
    },
    {
      "cell_type": "code",
      "metadata": {
        "colab": {
          "base_uri": "https://localhost:8080/",
          "height": 197
        },
        "id": "LNWfC0TumYal",
        "outputId": "7949b7bd-7818-4b1b-cd43-eccfc33e9b36"
      },
      "source": [
        "# Loading Data from URl\n",
        "url = \"http://winterolympicsmedals.com/medals.csv\"\n",
        "data = pd.read_csv(url)\n",
        "data.head(5)"
      ],
      "execution_count": 13,
      "outputs": [
        {
          "output_type": "execute_result",
          "data": {
            "text/html": [
              "<div>\n",
              "<style scoped>\n",
              "    .dataframe tbody tr th:only-of-type {\n",
              "        vertical-align: middle;\n",
              "    }\n",
              "\n",
              "    .dataframe tbody tr th {\n",
              "        vertical-align: top;\n",
              "    }\n",
              "\n",
              "    .dataframe thead th {\n",
              "        text-align: right;\n",
              "    }\n",
              "</style>\n",
              "<table border=\"1\" class=\"dataframe\">\n",
              "  <thead>\n",
              "    <tr style=\"text-align: right;\">\n",
              "      <th></th>\n",
              "      <th>Year</th>\n",
              "      <th>City</th>\n",
              "      <th>Sport</th>\n",
              "      <th>Discipline</th>\n",
              "      <th>NOC</th>\n",
              "      <th>Event</th>\n",
              "      <th>Event gender</th>\n",
              "      <th>Medal</th>\n",
              "    </tr>\n",
              "  </thead>\n",
              "  <tbody>\n",
              "    <tr>\n",
              "      <th>0</th>\n",
              "      <td>1924</td>\n",
              "      <td>Chamonix</td>\n",
              "      <td>Skating</td>\n",
              "      <td>Figure skating</td>\n",
              "      <td>AUT</td>\n",
              "      <td>individual</td>\n",
              "      <td>M</td>\n",
              "      <td>Silver</td>\n",
              "    </tr>\n",
              "    <tr>\n",
              "      <th>1</th>\n",
              "      <td>1924</td>\n",
              "      <td>Chamonix</td>\n",
              "      <td>Skating</td>\n",
              "      <td>Figure skating</td>\n",
              "      <td>AUT</td>\n",
              "      <td>individual</td>\n",
              "      <td>W</td>\n",
              "      <td>Gold</td>\n",
              "    </tr>\n",
              "    <tr>\n",
              "      <th>2</th>\n",
              "      <td>1924</td>\n",
              "      <td>Chamonix</td>\n",
              "      <td>Skating</td>\n",
              "      <td>Figure skating</td>\n",
              "      <td>AUT</td>\n",
              "      <td>pairs</td>\n",
              "      <td>X</td>\n",
              "      <td>Gold</td>\n",
              "    </tr>\n",
              "    <tr>\n",
              "      <th>3</th>\n",
              "      <td>1924</td>\n",
              "      <td>Chamonix</td>\n",
              "      <td>Bobsleigh</td>\n",
              "      <td>Bobsleigh</td>\n",
              "      <td>BEL</td>\n",
              "      <td>four-man</td>\n",
              "      <td>M</td>\n",
              "      <td>Bronze</td>\n",
              "    </tr>\n",
              "    <tr>\n",
              "      <th>4</th>\n",
              "      <td>1924</td>\n",
              "      <td>Chamonix</td>\n",
              "      <td>Ice Hockey</td>\n",
              "      <td>Ice Hockey</td>\n",
              "      <td>CAN</td>\n",
              "      <td>ice hockey</td>\n",
              "      <td>M</td>\n",
              "      <td>Gold</td>\n",
              "    </tr>\n",
              "  </tbody>\n",
              "</table>\n",
              "</div>"
            ],
            "text/plain": [
              "   Year      City       Sport  ...       Event Event gender   Medal\n",
              "0  1924  Chamonix     Skating  ...  individual            M  Silver\n",
              "1  1924  Chamonix     Skating  ...  individual            W    Gold\n",
              "2  1924  Chamonix     Skating  ...       pairs            X    Gold\n",
              "3  1924  Chamonix   Bobsleigh  ...    four-man            M  Bronze\n",
              "4  1924  Chamonix  Ice Hockey  ...  ice hockey            M    Gold\n",
              "\n",
              "[5 rows x 8 columns]"
            ]
          },
          "metadata": {
            "tags": []
          },
          "execution_count": 13
        }
      ]
    },
    {
      "cell_type": "code",
      "metadata": {
        "colab": {
          "base_uri": "https://localhost:8080/",
          "height": 197
        },
        "id": "3AH5cLsdoHJU",
        "outputId": "797acc94-e5be-4b22-db34-e906336a1e58"
      },
      "source": [
        "# Loading an Excel File\n",
        "\n",
        "dataset = pd.read_excel(\"/content/drive/MyDrive/Colab Notebooks/ML Cookbook/Datasets/sampledatainsurance.xlsx\")\n",
        "dataset.head(5)"
      ],
      "execution_count": 18,
      "outputs": [
        {
          "output_type": "execute_result",
          "data": {
            "text/html": [
              "<div>\n",
              "<style scoped>\n",
              "    .dataframe tbody tr th:only-of-type {\n",
              "        vertical-align: middle;\n",
              "    }\n",
              "\n",
              "    .dataframe tbody tr th {\n",
              "        vertical-align: top;\n",
              "    }\n",
              "\n",
              "    .dataframe thead th {\n",
              "        text-align: right;\n",
              "    }\n",
              "</style>\n",
              "<table border=\"1\" class=\"dataframe\">\n",
              "  <thead>\n",
              "    <tr style=\"text-align: right;\">\n",
              "      <th></th>\n",
              "      <th>Policy</th>\n",
              "      <th>Expiry</th>\n",
              "      <th>Location</th>\n",
              "      <th>State</th>\n",
              "      <th>Region</th>\n",
              "      <th>InsuredValue</th>\n",
              "      <th>Construction</th>\n",
              "      <th>BusinessType</th>\n",
              "      <th>Earthquake</th>\n",
              "      <th>Flood</th>\n",
              "    </tr>\n",
              "  </thead>\n",
              "  <tbody>\n",
              "    <tr>\n",
              "      <th>0</th>\n",
              "      <td>100242</td>\n",
              "      <td>2021-01-02</td>\n",
              "      <td>Urban</td>\n",
              "      <td>NY</td>\n",
              "      <td>East</td>\n",
              "      <td>1617630</td>\n",
              "      <td>Frame</td>\n",
              "      <td>Retail</td>\n",
              "      <td>N</td>\n",
              "      <td>N</td>\n",
              "    </tr>\n",
              "    <tr>\n",
              "      <th>1</th>\n",
              "      <td>100314</td>\n",
              "      <td>2021-01-02</td>\n",
              "      <td>Urban</td>\n",
              "      <td>NY</td>\n",
              "      <td>East</td>\n",
              "      <td>8678500</td>\n",
              "      <td>Fire Resist</td>\n",
              "      <td>Apartment</td>\n",
              "      <td>Y</td>\n",
              "      <td>Y</td>\n",
              "    </tr>\n",
              "    <tr>\n",
              "      <th>2</th>\n",
              "      <td>100359</td>\n",
              "      <td>2021-01-02</td>\n",
              "      <td>Rural</td>\n",
              "      <td>WI</td>\n",
              "      <td>Midwest</td>\n",
              "      <td>2052660</td>\n",
              "      <td>Frame</td>\n",
              "      <td>Farming</td>\n",
              "      <td>N</td>\n",
              "      <td>N</td>\n",
              "    </tr>\n",
              "    <tr>\n",
              "      <th>3</th>\n",
              "      <td>100315</td>\n",
              "      <td>2021-01-03</td>\n",
              "      <td>Urban</td>\n",
              "      <td>NY</td>\n",
              "      <td>East</td>\n",
              "      <td>17580000</td>\n",
              "      <td>Frame</td>\n",
              "      <td>Apartment</td>\n",
              "      <td>Y</td>\n",
              "      <td>Y</td>\n",
              "    </tr>\n",
              "    <tr>\n",
              "      <th>4</th>\n",
              "      <td>100385</td>\n",
              "      <td>2021-01-03</td>\n",
              "      <td>Urban</td>\n",
              "      <td>NY</td>\n",
              "      <td>East</td>\n",
              "      <td>1925000</td>\n",
              "      <td>Masonry</td>\n",
              "      <td>Hospitality</td>\n",
              "      <td>N</td>\n",
              "      <td>N</td>\n",
              "    </tr>\n",
              "  </tbody>\n",
              "</table>\n",
              "</div>"
            ],
            "text/plain": [
              "   Policy     Expiry Location State  ... Construction  BusinessType Earthquake Flood\n",
              "0  100242 2021-01-02    Urban    NY  ...        Frame        Retail          N     N\n",
              "1  100314 2021-01-02    Urban    NY  ...  Fire Resist     Apartment          Y     Y\n",
              "2  100359 2021-01-02    Rural    WI  ...        Frame       Farming          N     N\n",
              "3  100315 2021-01-03    Urban    NY  ...        Frame     Apartment          Y     Y\n",
              "4  100385 2021-01-03    Urban    NY  ...      Masonry   Hospitality          N     N\n",
              "\n",
              "[5 rows x 10 columns]"
            ]
          },
          "metadata": {
            "tags": []
          },
          "execution_count": 18
        }
      ]
    },
    {
      "cell_type": "code",
      "metadata": {
        "id": "sr9wvz1vlKbV"
      },
      "source": [
        "# Querying a SQL Database \n",
        "\n",
        "import pandas as pd\n",
        "from sqlalchemy import create_engine\n",
        "\n",
        "data_connection = create_engine('sqlite:///sample.db')\n",
        "dataframe = pd.read_sql_query('SELECT * FROM data', data_connection)\n",
        "\n",
        "dataframe.head(3)"
      ],
      "execution_count": null,
      "outputs": []
    }
  ]
}